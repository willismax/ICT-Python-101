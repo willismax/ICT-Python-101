{
  "nbformat": 4,
  "nbformat_minor": 0,
  "metadata": {
    "colab": {
      "name": "MQTT_Demo_Subscriber.ipynb",
      "provenance": [],
      "collapsed_sections": [
        "1etdBS3dRSCz"
      ],
      "authorship_tag": "ABX9TyO80twy5Doqx8BzJ8JzW86v",
      "include_colab_link": true
    },
    "kernelspec": {
      "name": "python3",
      "display_name": "Python 3"
    },
    "language_info": {
      "name": "python"
    }
  },
  "cells": [
    {
      "cell_type": "markdown",
      "metadata": {
        "id": "view-in-github",
        "colab_type": "text"
      },
      "source": [
        "<a href=\"https://colab.research.google.com/github/willismax/ICT-Python-101/blob/master/MQTT_Demo_Subscriber.ipynb\" target=\"_parent\"><img src=\"https://colab.research.google.com/assets/colab-badge.svg\" alt=\"Open In Colab\"/></a>"
      ]
    },
    {
      "cell_type": "markdown",
      "source": [
        "|[簡報](https://hackmd.io/@wiimax/ict_mqtt#/)|[Publisher](https://colab.research.google.com/drive/1DAYzTMHmv0X0FqIknvelkcKoVjZgCA3W)|[Subscriber](https://colab.research.google.com/drive/1UcUqnFHTx_DhmJd80WTjwcRql2KVt63W)\n",
        "|:-:|:-:|:-:\n",
        "|![](https://i.imgur.com/TFkKeuO.png)|![](https://i.imgur.com/uJdlGqo.png)|![](https://i.imgur.com/WVlVek0.png)"
      ],
      "metadata": {
        "id": "pw4jPKxPObAz"
      }
    },
    {
      "cell_type": "markdown",
      "source": [
        "## MQTT 實作\n",
        "\n",
        "- 需要 MQTT中間的**Broker**: 公用的\n",
        "- 需要發布訊息的**Publisher**\n",
        "- 需要接收訊息的**Subscribe**"
      ],
      "metadata": {
        "id": "OXqP3upSREed"
      }
    },
    {
      "cell_type": "markdown",
      "source": [
        "#### 熱門的公共 MQTT 伺服器：\n",
        "\n",
        "![](https://i.imgur.com/GboMca8.png)"
      ],
      "metadata": {
        "id": "cgWSnkP2P8CI"
      }
    },
    {
      "cell_type": "markdown",
      "source": [
        "## Subscribe"
      ],
      "metadata": {
        "id": "Xu73azdMRLz8"
      }
    },
    {
      "cell_type": "code",
      "source": [
        "!pip install paho-mqtt"
      ],
      "metadata": {
        "id": "HuvDIuzz-tX2"
      },
      "execution_count": null,
      "outputs": []
    },
    {
      "cell_type": "code",
      "execution_count": null,
      "metadata": {
        "id": "jQiBWVyi-dH9"
      },
      "outputs": [],
      "source": [
        "# %%writefile mqtt_sub.py\n",
        "# Subscribe\n",
        "\n",
        "import paho.mqtt.client as mqtt\n",
        "import json\n",
        "\n",
        "def on_connect(client, userdata, flags, rc):\n",
        "    print(f'connected with reqult code {rc}')\n",
        "    client.subscribe(\"tcnr/#\")\n",
        "\n",
        "def on_message(client, userdata, msg):\n",
        "    print(f\"{msg.topic} {msg.payload.decode('utf-8')}\")\n",
        "    temp = json.loads(msg.payload.decode('utf-8'))[\"Temperature\"]\n",
        "    if temp >= 30:\n",
        "        print(f\"溫度偵測{temp}大於30度，該開冷氣啦!\")\n",
        "\n",
        "client = mqtt.Client()\n",
        "client.on_connect = on_connect\n",
        "client.on_message = on_message\n",
        "\n",
        "# broker = 'broker.hivemq.com'\n",
        "# broker = '172.20.10.14'\n",
        "broker = 'broker.emqx.io'\n",
        "client.connect(broker, 1883, keepalive=60)\n",
        "\n",
        "client.loop_forever()\n"
      ]
    },
    {
      "cell_type": "code",
      "source": [
        "# !python mqtt_sub.py"
      ],
      "metadata": {
        "id": "aFfJ-KZQk888",
        "colab": {
          "base_uri": "https://localhost:8080/"
        },
        "outputId": "e50ed6a5-050e-4661-fa53-c1ed3413ad9c"
      },
      "execution_count": null,
      "outputs": [
        {
          "output_type": "stream",
          "name": "stdout",
          "text": [
            "connected with reqult code 0\n",
            "tcnr/class/n13/sensor01 {\"Temperature\": 28, \"Time\": \"03/22 06:35:05\"}\n",
            "tcnr/class/n01/sensor01 {\"Temperature\": 26, \"Time\": \"03/22 06:35:06\"}\n",
            "tcnr/class/n10/sensor01 {\"Temperature\": 32, \"Time\": \"03/22 06:35:08\"}\n",
            "溫度偵測32大於30度，該開冷氣啦!\n",
            "tcnr/class/n04/sensor01 {\"Temperature\": 16, \"Time\": \"03/22 06:35:08\"}\n",
            "tcnr/class/n13/sensor01 {\"Temperature\": 20, \"Time\": \"03/22 06:35:10\"}\n",
            "tcnr/class/n01/sensor01 {\"Temperature\": 31, \"Time\": \"03/22 06:35:11\"}\n",
            "溫度偵測31大於30度，該開冷氣啦!\n",
            "tcnr/class/n10/sensor01 {\"Temperature\": 30, \"Time\": \"03/22 06:35:13\"}\n",
            "溫度偵測30大於30度，該開冷氣啦!\n",
            "tcnr/class/n04/sensor01 {\"Temperature\": 25, \"Time\": \"03/22 06:35:13\"}\n",
            "tcnr/class/n13/sensor01 {\"Temperature\": 22, \"Time\": \"03/22 06:35:15\"}\n",
            "tcnr/class/n01/sensor01 {\"Temperature\": 26, \"Time\": \"03/22 06:35:16\"}\n",
            "tcnr/class/n10/sensor01 {\"Temperature\": 22, \"Time\": \"03/22 06:35:18\"}\n",
            "tcnr/class/n04/sensor01 {\"Temperature\": 27, \"Time\": \"03/22 06:35:18\"}\n",
            "tcnr/class/n13/sensor01 {\"Temperature\": 30, \"Time\": \"03/22 06:35:20\"}\n",
            "溫度偵測30大於30度，該開冷氣啦!\n",
            "tcnr/class/n01/sensor01 {\"Temperature\": 28, \"Time\": \"03/22 06:35:21\"}\n",
            "tcnr/class/n10/sensor01 {\"Temperature\": 19, \"Time\": \"03/22 06:35:23\"}\n",
            "tcnr/class/n04/sensor01 {\"Temperature\": 30, \"Time\": \"03/22 06:35:23\"}\n",
            "溫度偵測30大於30度，該開冷氣啦!\n",
            "tcnr/class/n13/sensor01 {\"Temperature\": 21, \"Time\": \"03/22 06:35:25\"}\n",
            "\n"
          ]
        }
      ]
    },
    {
      "cell_type": "markdown",
      "source": [
        "### 練習\n",
        "- 修改Broker為hivemq，記得Publisher與Subscribe要同步修改。\n",
        "- 修改`message`處理條件，如果溫度`temp`低於20，列印\"該蓋棉被啦\"。\n",
        "- 在此筆記本(`*.ipynb`)以`%%writefile mqtt_sub.py`存為`.py`檔案，並且用命令列執行`python`腳本。\n"
      ],
      "metadata": {
        "id": "6M7F18agd1KS"
      }
    },
    {
      "cell_type": "markdown",
      "source": [
        "## Publishe"
      ],
      "metadata": {
        "id": "1etdBS3dRSCz"
      }
    },
    {
      "cell_type": "code",
      "source": [
        "# Publishe\n",
        "\n",
        "import paho.mqtt.client as mqtt\n",
        "from random import randint\n",
        "import time\n",
        "\n",
        "client = mqtt.Client()\n",
        "\n",
        "broker = 'broker.emqx.io'\n",
        "client.connect(broker, 1883, keepalive=60)\n",
        "\n",
        "client.loop_start()\n",
        "\n",
        "while True:\n",
        "    temp = randint(18,32)\n",
        "    topic = \"tcnr/class/n01/temp\"\n",
        "    client.publish(topic, temp)\n",
        "    print(f'topic: {topic}, temperature: {temp}')\n",
        "    time.sleep(5)\n"
      ],
      "metadata": {
        "id": "8UOT-Ld1ROty"
      },
      "execution_count": null,
      "outputs": []
    },
    {
      "cell_type": "code",
      "source": [],
      "metadata": {
        "id": "kYzjLOKX-ypj"
      },
      "execution_count": null,
      "outputs": []
    }
  ]
}