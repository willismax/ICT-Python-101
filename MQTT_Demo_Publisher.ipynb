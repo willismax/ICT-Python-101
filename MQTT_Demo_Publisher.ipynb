{
  "nbformat": 4,
  "nbformat_minor": 0,
  "metadata": {
    "colab": {
      "name": "MQTT_Demo_Publisher.ipynb",
      "provenance": [],
      "collapsed_sections": [
        "Xu73azdMRLz8"
      ],
      "authorship_tag": "ABX9TyPC6dptnaUw4uRCvMEN8lpb",
      "include_colab_link": true
    },
    "kernelspec": {
      "name": "python3",
      "display_name": "Python 3"
    },
    "language_info": {
      "name": "python"
    }
  },
  "cells": [
    {
      "cell_type": "markdown",
      "metadata": {
        "id": "view-in-github",
        "colab_type": "text"
      },
      "source": [
        "<a href=\"https://colab.research.google.com/github/willismax/ICT-Python-101/blob/master/MQTT_Demo_Publisher.ipynb\" target=\"_parent\"><img src=\"https://colab.research.google.com/assets/colab-badge.svg\" alt=\"Open In Colab\"/></a>"
      ]
    },
    {
      "cell_type": "markdown",
      "source": [
        "|[簡報](https://hackmd.io/@wiimax/ict_mqtt#/)|[Publisher](https://colab.research.google.com/drive/1DAYzTMHmv0X0FqIknvelkcKoVjZgCA3W)|[Subscriber](https://colab.research.google.com/drive/1UcUqnFHTx_DhmJd80WTjwcRql2KVt63W)\n",
        "|:-:|:-:|:-:\n",
        "|![](https://i.imgur.com/TFkKeuO.png)|![](https://i.imgur.com/uJdlGqo.png)|![](https://i.imgur.com/WVlVek0.png)"
      ],
      "metadata": {
        "id": "pw4jPKxPObAz"
      }
    },
    {
      "cell_type": "markdown",
      "source": [
        "## MQTT 實作\n",
        "\n",
        "- 需要 MQTT中間的**Broker**: 公用的\n",
        "- 需要發布訊息的**Publisher**\n",
        "- 需要接收訊息的**Subscribe**"
      ],
      "metadata": {
        "id": "OXqP3upSREed"
      }
    },
    {
      "cell_type": "markdown",
      "source": [
        "#### 熱門的公共 MQTT 伺服器：\n",
        "\n",
        "![](https://i.imgur.com/GboMca8.png)"
      ],
      "metadata": {
        "id": "cgWSnkP2P8CI"
      }
    },
    {
      "cell_type": "markdown",
      "source": [
        "## Publishe"
      ],
      "metadata": {
        "id": "1etdBS3dRSCz"
      }
    },
    {
      "cell_type": "code",
      "source": [
        "!pip install paho-mqtt"
      ],
      "metadata": {
        "id": "HuvDIuzz-tX2"
      },
      "execution_count": null,
      "outputs": []
    },
    {
      "cell_type": "code",
      "source": [
        "%%writefile mqtt_pub.py\n",
        "# Publishe\n",
        "\n",
        "import paho.mqtt.client as mqtt\n",
        "from random import randint\n",
        "import json\n",
        "import datetime\n",
        "import time\n",
        "\n",
        "client = mqtt.Client()\n",
        "\n",
        "# broker = 'broker.hivemq.com'\n",
        "# broker = '172.20.10.14'\n",
        "broker = 'broker.emqx.io'\n",
        "\n",
        "client.connect(broker, 1883, keepalive=60)\n",
        "\n",
        "client.loop_start()\n",
        "\n",
        "while True:\n",
        "    topic = \"tcnr/class/n01/sensor01\"\n",
        "    temp = randint(18,32)\n",
        "    now_time = datetime.datetime.now().strftime('%m/%d %H:%M:%S')\n",
        "    message = {'Temperature': temp, 'Time': now_time}\n",
        "\n",
        "    client.publish(topic, json.dumps(message), qos=0)\n",
        "    print(f'topic: {topic}, message: {message}')\n",
        "    time.sleep(5)\n"
      ],
      "metadata": {
        "id": "8UOT-Ld1ROty",
        "colab": {
          "base_uri": "https://localhost:8080/"
        },
        "outputId": "0c6dcf98-cecb-446c-a561-356a1e3e5a8d"
      },
      "execution_count": null,
      "outputs": [
        {
          "output_type": "stream",
          "name": "stdout",
          "text": [
            "Writing mqtt_pub.py\n"
          ]
        }
      ]
    },
    {
      "cell_type": "code",
      "source": [
        "# !python mqtt_pub.py"
      ],
      "metadata": {
        "id": "K_26ARXMkyCo",
        "colab": {
          "base_uri": "https://localhost:8080/"
        },
        "outputId": "fa2c1d6c-f39d-4b88-af8d-b001e6bf957b"
      },
      "execution_count": null,
      "outputs": [
        {
          "output_type": "stream",
          "name": "stdout",
          "text": [
            "topic: tcnr/class/n01/sensor01, message: {'Temperature': 20, 'Time': '03/22 06:35:52'}\n",
            "topic: tcnr/class/n01/sensor01, message: {'Temperature': 23, 'Time': '03/22 06:35:57'}\n",
            "\n"
          ]
        }
      ]
    },
    {
      "cell_type": "markdown",
      "source": [
        "### 練習\n",
        "- 修改`topic`主題，改成`\"tcnr/class/你的座號/sensor01\"`\n",
        "- 修改Broker為hivemq，記得Publisher與Subscribe要同步修改。\n",
        "- 修改訊息的QoS為1，意思是Publisher送出會讓Broker確認是否收到1次。\n",
        "- 在此筆記本(`*.ipynb`)以`%%writefile mqtt_pub.py`存為`.py`檔案，並且用命令列執行`python`腳本。"
      ],
      "metadata": {
        "id": "U4KaMYREcWrX"
      }
    },
    {
      "cell_type": "markdown",
      "source": [
        "---"
      ],
      "metadata": {
        "id": "-W_109d3USPn"
      }
    },
    {
      "cell_type": "markdown",
      "source": [
        "## Subscribe"
      ],
      "metadata": {
        "id": "Xu73azdMRLz8"
      }
    },
    {
      "cell_type": "code",
      "execution_count": null,
      "metadata": {
        "id": "jQiBWVyi-dH9"
      },
      "outputs": [],
      "source": [
        "# Subscribe\n",
        "\n",
        "import paho.mqtt.client as mqtt\n",
        "\n",
        "def on_connect(client, userdata, flags, rc):\n",
        "    print(f'connected with reqult code {rc}')\n",
        "    client.subscribe(\"tcnr/#\")\n",
        "\n",
        "def on_message(client, userdata, msg):\n",
        "    print(f\"{msg.topic} {msg.payload}\")\n",
        "\n",
        "client = mqtt.Client()\n",
        "client.on_connect = on_connect\n",
        "client.on_message = on_message\n",
        "\n",
        "broker = 'broker.emqx.io'\n",
        "client.connect(broker, 1883, keepalive=60)\n",
        "\n",
        "client.loop_forever()"
      ]
    }
  ]
}